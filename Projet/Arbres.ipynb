{
 "cells": [
  {
   "cell_type": "markdown",
   "metadata": {},
   "source": [
    "# Les arbres binaires de recherche\n",
    "\n",
    "## Préprequis\n",
    "* Les dictionnaires sont vus en classe de 1ère.\n",
    "* La notion de récursivité aura été abordé au préalable.\n",
    "\n",
    "* Lors d'une séance précédente les élèves auront joué \"au jeux de la marmotte\" pour avoir une introduction/ manipulation sur les arbres.\n",
    "\n",
    "https://members.loria.fr/MDuflot/files/med/marmottes.html\n",
    "\n",
    "## 1 Les arbres\n",
    "\n",
    "### 1.1 Introduction\n",
    "    \n",
    "En mathématiques - plus particulièrement dans les chapitres traitant des probabilités - vous avez (dès la classe de seconde) déjà du voir des représentations sous forme d'arbre.\n",
    "\n",
    "**Exemple :** *Dans le tiroir de Nicolas se trouvent 4 chaussettes : deux blanches, une noire et une rouge.Le matin, dans le noir, il choisit successivement deux chaussettes au hasard dans le tiroir.*\n",
    "\n",
    "![Exemple d'arbre en probabilité](arbre.png)"
   ]
  },
  {
   "cell_type": "markdown",
   "metadata": {},
   "source": [
    "### 1.2 Vocabulaire\n",
    "    \n",
    "Les graphes représentent une partie importante de l’informatique. Leur visuel ainsi que le vocabulaire sont assez intuitifs.\n",
    "        \n",
    "#### 1.2.1 Présentation\n",
    "\n",
    "Contrairement à ce que vous avez vu jusqu'à présent, il est dirigé vers le bas (et plus vers la droite). Cela ressemble plus au système racinaire de l'arbre qu'à l'arbre en lui même.\n",
    "![Arbre bien présenté](arbreok.png)\n",
    "\n",
    "#### Exercice 1 : \n",
    "A quelle(s) occasion(s) avez déjà été confronté à de tels arbres (en dehors des probabilités) ?"
   ]
  },
  {
   "cell_type": "raw",
   "metadata": {},
   "source": [
    "Réponse :"
   ]
  },
  {
   "cell_type": "markdown",
   "metadata": {},
   "source": [
    "#### 1.2.2 Noeud\n",
    "        \n",
    "Ce sont les éléments du graphe, entourés en rouge ci-dessous. On parle de **noeud \"père\"** pour le noeud qui se trouve au rang supérieur (au dessus) et de **noeuds \"fils\"** pour le ou les noeuds au rang inférieur (en dessous).\n",
    "Un noeud qui ne possède pas de fils est également appelé une **\"feuille\"** de l'arbre.\n",
    "![Arbre noeud](arbreNoeud.png)\n",
    "        \n",
    "#### 1.2.3 Arêtes\n",
    "        \n",
    "Ce sont les liens qui relient les noeuds (repassés en bleu ci dessous).\n",
    "![Arbre arêtes](arbreArete.png)\n",
    "        \n",
    "#### 1.2.4 Racine\n",
    "        \n",
    "Le noeuds le plus \"haut\" est appelé la racine du graphe. C'est le seul noeud qui ne possède pas de \"père\". Dans le graphe représenté depuis le début, il correspond à \"A\".\n",
    "\n",
    "#### 1.2.5 Branche\n",
    "\n",
    "Une branche correpond au chemin reliant une feuille à sa racine. La branche en vert ci-dessous relie la feuille \"I\" à sa racine \"A\".\n",
    "![Arbre arêtes](arbreBranche.png)"
   ]
  },
  {
   "cell_type": "markdown",
   "metadata": {},
   "source": [
    "##  2.Arbres binaires\n",
    "\n",
    "Nous nous contenterons dans ce chapitre d'étudier des abres binaires, c'est à dire lorsque chaque noeud possède au plus 2 fils (0, 1 ou 2)."
   ]
  },
  {
   "cell_type": "markdown",
   "metadata": {},
   "source": [
    "#### Exercice 2:\n",
    "\n",
    "Parmis les 3 arbres ci-dessous, identifier le(s) arbre(s) binaire(s) en justifiant votre réponse.\n",
    "![Exercice 1](exercice1.png)"
   ]
  },
  {
   "cell_type": "markdown",
   "metadata": {},
   "source": [
    "\n"
   ]
  },
  {
   "cell_type": "code",
   "execution_count": null,
   "metadata": {},
   "outputs": [],
   "source": [
    "Réponse :"
   ]
  },
  {
   "cell_type": "markdown",
   "metadata": {},
   "source": [
    "## 3. Encore un peu de vocabulaire\n",
    "\n",
    "* On appelle **profondeur d'un noeud** (ou d'une feuille) la distance entre ce noeud et la racine. Elle correspond aux nombre de noeuds sur le chemin depuis la racine. *Par convention, la racine est de profondeur 1.\n",
    "* On appelle **hauteur d'un arbre** la profondeur maximale parmis toutes les feuilles de l'arbre.\n",
    "* Puisqu'un noeud d'un arbre binaire possède au plus 2 fils, on parlera d'un fils \"gauche\" et d'un fils \"droit\". S'il ne possède qu'un fils, il peut être à droite ou à gauche. Par convention dans les représentations suivantes, lorsque le fils est représenté à la verticale , on estimera que c'est un fils \"gauche\".\n",
    "\n",
    "**Exemple :** Sur l'arbre n°1 ci-dessous, la profondeur de H  est égale à 4. C'est un des noeuds les plus profond (avec I), donc la hauteur de l'arbre est de 4.\n",
    "\n",
    "*AJOUTER EXEMPLE*"
   ]
  },
  {
   "cell_type": "markdown",
   "metadata": {},
   "source": [
    "#### Exercice 3 :\n",
    "\n",
    "Répondre aux questions après avoir bien observé l'arbre représenté ci-dessous.\n",
    "![Exercice 1](exercice2.png)\n",
    "\n",
    "1. Quelle est la racine de cet arbre ?\n",
    "2. Quel est le fils gauche de \"F\", le fils droit de \"G\" ?\n",
    "3. Décrire - **parcourir** - les noeuds faisant partie de la branche, menant à la feuille \"L\".\n",
    "4. Quelle est la profondeur du noeud \"F\", de la feuille \"N\"?\n",
    "5. Quelle est la hauteur de cet arbre ?"
   ]
  },
  {
   "cell_type": "code",
   "execution_count": null,
   "metadata": {},
   "outputs": [],
   "source": [
    "'''\n",
    "1.\n",
    "2.\n",
    "3.\n",
    "4.\n",
    "5.\n",
    "'''"
   ]
  },
  {
   "cell_type": "markdown",
   "metadata": {},
   "source": [
    "#### Remarque :\n",
    "On peut voir un noeud comme une nouvelle racine et obtenir ainsi un \"sous-arbre\".\n",
    "#### Exercice 4: \n",
    "Dessiner l'arbre de racine \"C\" à partir de l'exercice précédent."
   ]
  },
  {
   "cell_type": "markdown",
   "metadata": {},
   "source": [
    "## 4 Algorithmes et implémentation en Python\n",
    "\n",
    "### 4.1 Structure de l'arbre\n",
    "\n",
    "* Chaque noeud doit contenir 3 informations :\n",
    "    * Une clé (ou valeur), unique qui permet de l'identifier.\n",
    "    * Un sous arbre gauche qui correspond à son fils gauche.\n",
    "    * Un sous arbre droit qui correpond à son fils droit.\n",
    "\n",
    "#### Exemple :\n",
    "Le noeud \"A\" possède comme fils gauche le sous-arbre de racine **B** et comme fis droit le sous-arbre de racine **E**.\n",
    "\n",
    "![Exercice 1](arbre_def.png)\n",
    "\n",
    "De même le noeud de clé **E** possède :\n",
    "* Un fils gauche, le sous-arbre de racine **F** et aucun autre noeud.\n",
    "* Un fils droit, le sous-arbre de racine **G** avec comme noeuds supplémentaires **H** et **I** .\n",
    "\n",
    "#### Remarque :\n",
    "Un arbre qui ne contient pas de noeud est \"vide\" et on le note **NIL**.\n",
    "Le noeud de clé **F** possède un fils droit **NIL** et un fils gauche **NIL** également.\n",
    "\n",
    "### 4.2 Implémentation en Python\n",
    "\n",
    "On peut modéliser cette situation en Python à l'aide de différentes structures :\n",
    "* Avec des tuples\n",
    "* Avec des listes\n",
    "* Avec des dictionnaires\n",
    "* Avec des classes (mais là on entre dans le language objet qui sera un sujet d'étude/projet plus tard.)\n",
    "\n",
    "Pour la suite on définit un arbre comme un dictionnaire. les paires clés/valeurs sont définies par \n",
    "* la clé est la valeur d'un noeud\n",
    "* sa valeur est la liste de ses fils (ou None)"
   ]
  },
  {
   "cell_type": "markdown",
   "metadata": {},
   "source": [
    "#### 4.2.1 Exemple\n",
    "Exécuter le code ci-dessous,\n",
    "1. Quelle est la valeur du noeud racine ?\n",
    "2. Quelle est la valeur de son fils droit ?\n",
    "3. Quelle est la valeur de son fils gauche ?"
   ]
  },
  {
   "cell_type": "code",
   "execution_count": null,
   "metadata": {},
   "outputs": [],
   "source": [
    "arbre={'A':['B','C'],'B':[None,None],'C':[None,None]}"
   ]
  },
  {
   "cell_type": "markdown",
   "metadata": {},
   "source": [
    "Réponse :\n",
    "1. \n",
    "2. \n",
    "3. "
   ]
  },
  {
   "cell_type": "markdown",
   "metadata": {},
   "source": [
    "#### 4.2.2 Exercice\n",
    "Ecrire l'implémentation du noeud suivant :\n",
    "\n",
    "![Exercice 3](Exo1.png)"
   ]
  },
  {
   "cell_type": "code",
   "execution_count": null,
   "metadata": {},
   "outputs": [],
   "source": [
    "noeud={}"
   ]
  },
  {
   "cell_type": "markdown",
   "metadata": {},
   "source": [
    "#### 4.2.2 Exercices\n",
    "Complète le shéma de l'arbre suivant à partir du code ci-dessous:\n",
    "\n",
    "![Exercice 4](exo2.png)"
   ]
  },
  {
   "cell_type": "code",
   "execution_count": null,
   "metadata": {},
   "outputs": [],
   "source": [
    "arbre={\n",
    "    'F':['G','H'],\n",
    "    'G':['K','L'],\n",
    "    'H':[None,None],\n",
    "    'K':[None,None],\n",
    "    'L':[None,None]\n",
    "}"
   ]
  },
  {
   "cell_type": "markdown",
   "metadata": {},
   "source": [
    "Pour la suite on pourra avoir besoin de trois fonctions essentielle :\n",
    "* Une fonction valN(noeud) qui renvoie la valeur du noeud.\n",
    "* Une fonction filsG(noeud) qui renvoie la valeur du fils gauche d'un noeud.\n",
    "* Une fonction filsD(noeud) qui renvoie la valeur du fils droit d'un noeud.\n",
    "Elles sont sans difficulté et donné ci dessous :"
   ]
  },
  {
   "cell_type": "code",
   "execution_count": null,
   "metadata": {},
   "outputs": [],
   "source": [
    "def valN(arbre,noeud):\n",
    "    return(noeud)\n",
    "\n",
    "def filsD(arbre,noeud):\n",
    "    return(arbre[noeud][1])\n",
    "\n",
    "def filsG(arbre,noeud):\n",
    "    return(arbre[noeud][0])"
   ]
  },
  {
   "cell_type": "markdown",
   "metadata": {},
   "source": [
    "Pour créer un arbre, on va simplement utiliser une fonction qui prenne en argument un arbre (une dictionnaire), une valeur pour le fils droit et une valeur pour le fils gauche de la clé 'noeud'\n",
    "\n",
    "Créer la fonction ci-dessous et s'en servir pour retrouver l'abre définit au début de cette série d'exercices."
   ]
  },
  {
   "cell_type": "code",
   "execution_count": null,
   "metadata": {},
   "outputs": [],
   "source": [
    "def ajoutNoeud(arbre,val,fg,fd):\n",
    "    "
   ]
  },
  {
   "cell_type": "markdown",
   "metadata": {},
   "source": [
    "### 4.2 Parcours d'un arbre\n",
    "Parcourir un arbre c'est afficher tous les noeuds en suivant (ou non) un ordre précis.\n",
    "\n",
    "Il existe 3 ordres de parcourt : **Préfixe**, **Postfixe**, **Infixe** \n",
    "#### 4.2.1 Préfixe\n",
    "On affiche successievement : valeur de la racine, sous-arbre gauche, sous-arbre droit.\n",
    "\n",
    "Ce qui nous donne en terme d'algorithme :"
   ]
  },
  {
   "cell_type": "raw",
   "metadata": {},
   "source": [
    "prefixe(arbre,v)\n",
    "   si ( v <> nil ) alors\n",
    "      valN(arbre,v)\n",
    "      prefixe(arbre,filsG(v))\n",
    "      prefixe(arbre,filsD(v))"
   ]
  },
  {
   "cell_type": "markdown",
   "metadata": {},
   "source": [
    "#### 4.2.2 Postfixe\n",
    "On affiche successievement : sous-arbre gauche, sous-arbre droit, racine\n",
    "\n",
    "En se basant sur l'algorithme de parcourt \"**préfixe**\", écrire celui **Postfixe**"
   ]
  },
  {
   "cell_type": "raw",
   "metadata": {},
   "source": [
    "postfixe(v)\n"
   ]
  },
  {
   "cell_type": "markdown",
   "metadata": {},
   "source": [
    "#### 4.2.3 Infixe\n",
    "On affiche successievement : sous-arbre gauche, racine, sous-arbre droit\n",
    "En se basant sur l'algorithme de parcourt \"**préfixe**\", écrire celui **Infixe**\n"
   ]
  },
  {
   "cell_type": "raw",
   "metadata": {},
   "source": [
    "infixe(v)\n"
   ]
  },
  {
   "cell_type": "markdown",
   "metadata": {},
   "source": [
    "#### 4.2.4 Implémentation en Python\n",
    "Exécuter le code ci-dessous. De quel parcourt est-il l'implémentation ? Le renommer en conséquence.\n",
    "Réponse :"
   ]
  },
  {
   "cell_type": "code",
   "execution_count": null,
   "metadata": {},
   "outputs": [],
   "source": [
    "def parcourt(arbre,noeud):\n",
    "    if noeud!=None:\n",
    "        parcourt(arbre,filsG(arbre,noeud))\n",
    "        print(noeud)\n",
    "        parcourt(arbre,filsD(arbre,noeud))"
   ]
  },
  {
   "cell_type": "markdown",
   "metadata": {},
   "source": [
    "Exercices : Faire de même avec les deux autres parcourts."
   ]
  },
  {
   "cell_type": "code",
   "execution_count": null,
   "metadata": {},
   "outputs": [],
   "source": [
    "def parcourt2(arbre, noeud):\n",
    "    \n",
    "def parcourt3(arbre,noeud):"
   ]
  },
  {
   "cell_type": "markdown",
   "metadata": {},
   "source": [
    "#### 4.2.5 Et le coût dans tout cela ?\n",
    "Dans l'ensemble de ces parcours, combien de fois est visité chaque noeud ? Que peut-on en déduire sur la compléxité ?\n",
    "+ 0(n) (linéaire) ?\n",
    "+ O(n²) (quadratique)?\n",
    "+ O(log_2(n)) (logarithmique en base 2) ?"
   ]
  },
  {
   "cell_type": "markdown",
   "metadata": {},
   "source": [
    "### 4.3 Autres fonctions \n",
    "#### 4.3.1 Hauteur d'un arbre\n",
    "On donne le code de la fonction qui détermine la hauteur d'un arbre, en écrire l'algorithme."
   ]
  },
  {
   "cell_type": "code",
   "execution_count": 2,
   "metadata": {},
   "outputs": [],
   "source": [
    "def hauteur(arbre,racine):\n",
    "    ''' Détermine la hauteur d'un arbre'''\n",
    "    if racine == None :\n",
    "        return(0)\n",
    "    else :\n",
    "        h = max(hauteur(arbre,filsG(arbre,racine)),hauteur(arbre,filsD(arbre,racine)))\n",
    "    return(h+1)"
   ]
  },
  {
   "cell_type": "raw",
   "metadata": {},
   "source": [
    "hauteur(arbre,v)\n"
   ]
  },
  {
   "cell_type": "markdown",
   "metadata": {},
   "source": [
    "### 4.4 Somme des valeur\n",
    "On se place cette fois dans un arbre ou la valeur de chaque noeud est un entier positif.\n",
    "\n",
    "Ecrire l'algorithme puis la fonction qui fait la somme des valeurs de chaque noeud. (sans faire la somme des clés du dictionnaire !)\n",
    "\n"
   ]
  },
  {
   "cell_type": "markdown",
   "metadata": {},
   "source": [
    "somme(..."
   ]
  },
  {
   "cell_type": "code",
   "execution_count": null,
   "metadata": {},
   "outputs": [],
   "source": [
    "def sommeVal(arbre,noeud):\n",
    "    "
   ]
  },
  {
   "cell_type": "markdown",
   "metadata": {},
   "source": [
    "## 5 ABR\n",
    "Introduction à partir d'un exemple et des parcourts.\n",
    "http://btv.melezinek.cz/binary-search-tree.html\n",
    "\n",
    "### 5.1 Def/voc\n",
    "\n",
    "### 5.2 Recherche d'une valeur/clé\n",
    "\n",
    "### 5.3 Insérer une valeur/clé\n",
    "\n",
    "### 5.4 Comparaison du cout de recherche (n, log_2(n))## \n",
    "\n",
    "## 6.Implémentation en python (Objet : projet)\n",
    "\n",
    "\n"
   ]
  }
 ],
 "metadata": {
  "kernelspec": {
   "display_name": "Python 3",
   "language": "python",
   "name": "python3"
  },
  "language_info": {
   "codemirror_mode": {
    "name": "ipython",
    "version": 3
   },
   "file_extension": ".py",
   "mimetype": "text/x-python",
   "name": "python",
   "nbconvert_exporter": "python",
   "pygments_lexer": "ipython3",
   "version": "3.7.6"
  }
 },
 "nbformat": 4,
 "nbformat_minor": 4
}
