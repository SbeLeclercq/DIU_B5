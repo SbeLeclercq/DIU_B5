{
 "cells": [
  {
   "cell_type": "markdown",
   "metadata": {},
   "source": [
    "# Les arbres binaires de recherche\n",
    "\n",
    "## 1 Les arbres\n",
    "\n",
    "### 1.1 Introduction\n",
    "    \n",
    "En mathématiques - plus particulièrement dans les chapitres traitant des probabilités - vous avez (dès la classe de seconde) déjà du voir des représentations sous forme d'arbre.\n",
    "\n",
    "**Exemple :** *Dans le tiroir de Nicolas se trouvent 4 chaussettes : deux blanches, une noire et une rouge.Le matin, dans le noir, il choisit successivement deux chaussettes au hasard dans le tiroir.*\n",
    "\n",
    "![Exemple d'arbre en probabilité](arbre.png)"
   ]
  },
  {
   "cell_type": "markdown",
   "metadata": {},
   "source": [
    "### 1.2 Vocabulaire\n",
    "    \n",
    "Les graphes représentent une partie importante de l’informatique. Leur visuel ainsi que le vocabulaire sont assez intuitifs.\n",
    "        \n",
    "#### 1.2.1 Présentation\n",
    "\n",
    "Contrairement à ce que vous avez vu jusqu'à présent, il est dirigé vers le bas (et plus vers la droite). Cela ressemble plus au système racinaire de l'arbre qu'à l'arbre en lui même.\n",
    "![Arbre bien présenté](arbreok.png)\n",
    "\n",
    "#### Exercice 1 : \n",
    "A quelle(s) occasion(s) avez déjà été confronté à de tels arbres (en dehors des probabilités) ?"
   ]
  },
  {
   "cell_type": "raw",
   "metadata": {},
   "source": [
    "Réponse :"
   ]
  },
  {
   "cell_type": "markdown",
   "metadata": {},
   "source": [
    "#### 1.2.2 Noeud\n",
    "        \n",
    "Ce sont les éléments du graphe, entouré en rouge ci-dessous. On parle de **noeud \"père\"** pour le noeud qui se trouve au rang supérieur (au dessus) et de **noeuds \"fils\"** pour le ou les noeuds au rang inférieur (en dessous).\n",
    "Un noeud qui ne possède pas de fils est également appelé une **\"feuille\"** de l'arbre.\n",
    "![Arbre noeud](arbreNoeud.png)\n",
    "        \n",
    "#### 1.2.3 Arêtes\n",
    "        \n",
    "Ce sont les liens qui relient les noeuds (repassés en bleu ci dessous).\n",
    "![Arbre arêtes](arbreArete.png)\n",
    "        \n",
    "#### 1.2.4 Racine\n",
    "        \n",
    "Le noeuds le plus \"haut\" est appelé la racine du graphe. C'est le seul noeud qui ne possède pas de \"père\". Dans le graphe représenté depuis le début, il correspond à \"A\".\n",
    "\n",
    "#### 1.2.5 Branche\n",
    "\n",
    "Une branche correpond au chemin reliant une feuille à sa racine. La branche en vert ci-dessous relie la feuille \"I\" à sa racine \"A\".\n",
    "![Arbre arêtes](arbreBranche.png)"
   ]
  },
  {
   "cell_type": "markdown",
   "metadata": {},
   "source": [
    "##  2.Arbres binaires\n",
    "\n",
    "Nous nous contenterons dans ce chapitre d'étudier des abres binaires, c'est à dire lorsque chaque noeud possède au plus 2 fils (0, 1 ou 2)."
   ]
  },
  {
   "cell_type": "markdown",
   "metadata": {},
   "source": [
    "#### Exercice 2:\n",
    "\n",
    "Parmis les 3 arbres ci-dessous, identifier le(s) arbre(s) binaire(s) en justifiant votre réponse.\n",
    "![Exercice 1](exercice1.png)"
   ]
  },
  {
   "cell_type": "markdown",
   "metadata": {},
   "source": [
    "\n"
   ]
  },
  {
   "cell_type": "raw",
   "metadata": {},
   "source": [
    "Réponse :"
   ]
  },
  {
   "cell_type": "markdown",
   "metadata": {},
   "source": [
    "## 3. Encore un peu de vocabulaire\n",
    "\n",
    "* On appelle **profondeur d'un noeud** (ou d'une feuille) la distance entre ce noeud et la racine. Elle correspond aux nombre de noeuds sur le chemin depuis la racine. *Par convention, la racine est de profondeur 1.\n",
    "* On appelle **hauteur d'un arbre** la profondeur maximale parmis toutes les feuilles de l'arbre. \n",
    "\n",
    "**Exemple :** Sur l'arbre n°1 ci-dessus, la profondeur de H  est égale à 4. C'est un des noeuds les plus profond (avec I), donc la hauteur de l'arbre est de 4. "
   ]
  },
  {
   "cell_type": "markdown",
   "metadata": {},
   "source": [
    "#### Exercice 3 :\n",
    "\n",
    "Répondre aux questions après avoir bien observé l'arbre représenté ci-dessous.\n",
    "![Exercice 1](exercice2.png)"
   ]
  },
  {
   "cell_type": "markdown",
   "metadata": {},
   "source": [
    "## 4.Implémentation en python\n",
    "\n",
    "On peut modéliser cette situation en Python à l'aide de différentes structures :\n",
    "* Avec des tuples\n",
    "* Avec des listes\n",
    "* Avec des disctionnaires\n",
    "* Avec des classes (language objet)"
   ]
  },
  {
   "cell_type": "code",
   "execution_count": null,
   "metadata": {},
   "outputs": [],
   "source": []
  },
  {
   "cell_type": "code",
   "execution_count": null,
   "metadata": {},
   "outputs": [],
   "source": []
  }
 ],
 "metadata": {
  "kernelspec": {
   "display_name": "Python 3",
   "language": "python",
   "name": "python3"
  },
  "language_info": {
   "codemirror_mode": {
    "name": "ipython",
    "version": 3
   },
   "file_extension": ".py",
   "mimetype": "text/x-python",
   "name": "python",
   "nbconvert_exporter": "python",
   "pygments_lexer": "ipython3",
   "version": "3.7.3"
  }
 },
 "nbformat": 4,
 "nbformat_minor": 4
}
