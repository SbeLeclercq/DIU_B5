{
 "cells": [
  {
   "cell_type": "markdown",
   "metadata": {},
   "source": [
    "<div align=justify>\n",
    "    <h1 style='text-align:center' ><span style = 'color:#0000FF'>Une struture hierarchique : Les arbres</span></h1>\n",
    " </div>\n",
    "\n",
    "\n",
    "<div class = \"alert alert-warning\"> \n",
    "    <h2>0.1 Prérequis</h2>\n",
    "</div>\n",
    "\n",
    "* Les structures linéaires que sont les listes, files et piles auront été abordées précédemment et par la même occasion la notion de récursivité également.\n",
    "* Les dictionnaires sont vus en classe de 1ère.\n",
    "\n",
    "* Lors d'une séance précédente les élèves auront joué au jeux \"Qui-es-ce ?\" à partir du jeux des 7 familles <a href=\"https://interstices.info/jeu-de-7-familles-de-linformatique/\">Interstice/Inria/SIF</a>. A l'issue, on fera émerger la notion d'arbre pour prendre une décision, pour rechercher une information... (exemple avec les ruches).\n",
    "\n",
    "* La structure des arbres a déjà été abordée en Mathématiques lors des chapitres sur les probabilités. (plus ou moins selon le parcours des élèves, spé Math ou non en classe de première).\n",
    "\n",
    "<div class = \"alert alert-warning\"> \n",
    "    <h2>0.2 Evaluation</h2>\n",
    "</div>\n",
    "\n",
    "* Un export en *.pdf, voir le fichier dans son intégralité peut être envoyé à l'enseignant pour \"vérification\", \"notation\"\n",
    "* Plus certainement des exercices (issues de la BNS ?) pourront servir de support d'évaluation de la compréhension.\n",
    "* Pourquoi pas évaluer le projet final (implémentation des algorithmes sur les arbres binaires en python)\n",
    "\n",
    "<div class = \"alert alert-warning\"> \n",
    "    <h2>1. Les arbres</h2>\n",
    "</div>\n",
    "\n",
    "## 1.1 Introduction\n",
    "    \n",
    "En mathématiques - plus particulièrement dans les chapitres traitant des probabilités - vous avez (dès la classe de seconde) déjà du voir des représentations sous forme d'arbre.\n",
    "\n",
    "**Exemple :** Dans le tiroir de Nicolas se trouvent 4 chaussettes : deux blanches, une noire et une rouge.Le matin, dans le noir, il choisit successivement deux chaussettes au hasard dans le tiroir.*\n",
    "\n",
    "![Exemple d'arbre en probabilité](arbre.png)"
   ]
  },
  {
   "cell_type": "markdown",
   "metadata": {},
   "source": [
    "### 1.2 Vocabulaire\n",
    "    \n",
    "Les graphes représentent une partie importante de l’informatique. Leur visuel ainsi que le vocabulaire sont assez intuitifs.\n",
    "        \n",
    "#### 1.2.1 Présentation\n",
    "\n",
    "Contrairement à ce que vous avez vu jusqu'à présent, il est dirigé vers le bas (et plus vers la droite). Cela ressemble plus au système racinaire de l'arbre qu'à l'arbre en lui même.\n",
    "![Arbre bien présenté](arbreok.png)\n",
    "\n",
    "<div class = \"alert alert-info\">\n",
    "<b>Q1:</b> A quelle(s) occasion(s) avez déjà été confronté à de tels arbres (en dehors des probabilités) ?\n",
    "    </div>"
   ]
  },
  {
   "cell_type": "raw",
   "metadata": {},
   "source": [
    "Réponse :"
   ]
  },
  {
   "cell_type": "markdown",
   "metadata": {},
   "source": [
    "#### 1.2.2 Noeud\n",
    "<div class = \"alert alert-success\">  \n",
    "    <b>Les noeuds</b> sont les éléments du graphe, entourés en rouge ci-dessous. On parle de <b>noeud \"père\"</b> pour le noeud qui se trouve au rang supérieur (au dessus) et de <b>noeuds \"fils\"</b> pour le ou les noeuds au rang inférieur (en dessous).\n",
    "    Un noeud qui ne possède pas de fils est également appelé une <b>\"feuille\"</b> de l'arbre.<br/>\n",
    "    La valeur d'un noeud (ici A, B, C, ...) est appelé parfois <b>clé</b>.\n",
    "</div>\n",
    "\n",
    "![Arbre noeud](arbreNoeud.png)\n",
    "        \n",
    "#### 1.2.3 Arêtes\n",
    "<div class = \"alert alert-success\">\n",
    "    <b>Les arêtes</b> les liens qui relient les noeuds (repassés en bleu ci dessous).\n",
    "</div>\n",
    "\n",
    "![Arbre arêtes](arbreArete.png)\n",
    "        \n",
    "#### 1.2.4 Racine\n",
    "<div class = \"alert alert-success\">\n",
    "    Le noeuds le plus \"haut\" est appelé la <b>racine</b> du graphe. C'est le seul noeud qui ne possède pas de \"père\". Dans le graphe représenté depuis le début, il correspond à \"A\".\n",
    "</div>\n",
    "\n",
    "#### 1.2.5 Branche\n",
    "<div class = \"alert alert-success\">\n",
    "    <b>Une branche</b> correpond au chemin reliant une feuille à sa racine. La branche en vert ci-dessous relie la feuille \"I\" à sa racine \"A\".\n",
    "</div>\n",
    "\n",
    "![Arbre arêtes](arbreBranche.png)"
   ]
  },
  {
   "cell_type": "markdown",
   "metadata": {},
   "source": [
    "<div class = \"alert alert-warning\"> \n",
    "    <h2>2.Arbres binaires</h2>\n",
    "</div>\n",
    "\n",
    "Nous nous contenterons dans ce chapitre d'étudier des **abres binaires**, c'est à dire lorsque chaque noeud possède au plus 2 fils (0, 1 ou 2)."
   ]
  },
  {
   "cell_type": "markdown",
   "metadata": {},
   "source": [
    "<div class = \"alert alert-info\">\n",
    "<b>Q2 :</b>Parmi les 3 arbres ci-dessous, identifier le(s) arbre(s) binaire(s) en justifiant votre réponse.\n",
    "    </div>\n",
    "\n",
    "![Exercice 1](exercice1.png)"
   ]
  },
  {
   "cell_type": "markdown",
   "metadata": {},
   "source": [
    "\n"
   ]
  },
  {
   "cell_type": "markdown",
   "metadata": {},
   "source": [
    "Réponse :"
   ]
  },
  {
   "cell_type": "markdown",
   "metadata": {},
   "source": [
    "<div class = \"alert alert-warning\"> \n",
    "    <h2>3. Encore un peu de vocabulaire</h2>\n",
    "</div>\n",
    "\n",
    "<div class = \"alert alert-success\"> \n",
    "<ul>\n",
    "    <li> On appelle <b>profondeur d'un noeud</b> (ou d'une feuille) la distance entre ce noeud et la racine. Elle correspond aux nombre de noeuds sur le chemin depuis la racine. <i> Par convention, la racine est de profondeur 1<i>.\n",
    "        <li>On appelle <b>hauteur d'un arbre</b> la profondeur maximale parmis toutes les feuilles de l'arbre.\n",
    "        <li>Puisqu'un noeud d'un arbre binaire possède au plus 2 fils, on parlera d'un <b>fils \"gauche\"</b> et d'un <b>fils \"droit\"</b>. S'il ne possède qu'un fils, il peut être à droite ou à gauche. <b>Par convention dans les représentations suivantes, lorsque le fils est représenté à la verticale , on estimera que c'est un fils \"gauche\".</b>\n",
    "        </ul>\n",
    "        </div>\n",
    "        \n",
    "**Exemple :** Sur l'arbre n°1 ci-dessus, la profondeur de H  est égale à 4. C'est un des noeuds les plus profond (avec I), donc la hauteur de l'arbre est de 4."
   ]
  },
  {
   "cell_type": "markdown",
   "metadata": {},
   "source": [
    "<div class = \"alert alert-info\">\n",
    "<b>Q3 :</b>Répondre aux questions après avoir bien observé l'arbre représenté ci-dessous.\n",
    "    </div>\n",
    "    \n",
    "![Exercice 1](exercice2.png)\n",
    "\n",
    "1. Quelle est la racine de cet arbre ?\n",
    "2. Quel est le fils gauche de \"F\", le fils droit de \"G\" ?\n",
    "3. Décrire - **parcourir** - les noeuds faisant partie de la branche, menant à la feuille \"L\".\n",
    "4. Quelle est la profondeur du noeud \"F\", de la feuille \"N\"?\n",
    "5. Quelle est la hauteur de cet arbre ?"
   ]
  },
  {
   "cell_type": "markdown",
   "metadata": {},
   "source": [
    "'''  \n",
    "1.  \n",
    "2.  \n",
    "3.  \n",
    "4.  \n",
    "5.  \n",
    "'''  "
   ]
  },
  {
   "cell_type": "markdown",
   "metadata": {},
   "source": [
    "#### Remarque :\n",
    "On peut voir un noeud comme une nouvelle racine et obtenir ainsi un \"sous-arbre\". C'est ici qu'intervient le principe de récursivité.\n",
    "\n",
    "<div class = \"alert alert-info\">\n",
    "<b>Q4 :</b>Dessiner l'arbre de racine \"C\" à partir de l'exercice précédent.\n",
    "    </div>\n"
   ]
  },
  {
   "cell_type": "markdown",
   "metadata": {},
   "source": [
    "<div class = \"alert alert-warning\"> \n",
    "    <h2>4 Algorithmes et implémentation en Python</h2>\n",
    "</div>\n",
    "\n",
    "### 4.1 Structure de l'arbre\n",
    "\n",
    "<div class = \"alert alert-success\"> \n",
    "Chaque noeud doit contenir 3 informations :\n",
    "<ul>\n",
    "    <li> Une clé (ou valeur), unique qui permet de l'identifier.\n",
    "    <li> Un sous arbre gauche qui correspond à son fils gauche.\n",
    "    <li> Un sous arbre droit qui correpond à son fils droit.\n",
    "    </ul>\n",
    "</div>\n",
    "\n",
    "#### Exemple :\n",
    "Le noeud \"A\" possède comme fils gauche le sous-arbre de racine **B** et comme fis droit le sous-arbre de racine **E**.\n",
    "\n",
    "![Exercice 1](arbre_def.png)\n",
    "\n",
    "De même le noeud de clé **E** possède :\n",
    "* Un fils gauche, le sous-arbre de racine **F** et aucun autre noeud.\n",
    "* Un fils droit, le sous-arbre de racine **G** avec comme noeuds supplémentaires **H** et **I** .\n",
    "\n",
    "#### Remarque :\n",
    "Un arbre qui ne contient pas de noeud est \"vide\" et on le note **NIL**.\n",
    "Le noeud de clé **F** possède un fils droit **NIL** et un fils gauche **NIL** également.\n",
    "\n",
    "### 4.2 Implémentation en Python\n",
    "\n",
    "On peut modéliser cette situation en Python à l'aide de différentes structures :\n",
    "* Avec des tuples\n",
    "* Avec des listes\n",
    "* Avec des dictionnaires\n",
    "* Avec des classes (mais là on entre dans le language objet qui sera un sujet d'étude/projet plus tard.)\n",
    "\n",
    "*Pour la suite on définit un arbre comme un dictionnaire. les paires clés/valeurs sont définies par *\n",
    "* la clé est la valeur d'un noeud\n",
    "* sa valeur est la liste de ses fils (ou None)"
   ]
  },
  {
   "cell_type": "markdown",
   "metadata": {},
   "source": [
    "#### 4.2.1 Exemple\n",
    "<div class = \"alert alert-info\">\n",
    "<b>Q5 :</b>Exécuter le code ci-dessous et répondre aux questions :\n",
    "    </div>\n",
    "    \n",
    "1. Quelle est la valeur du noeud racine ?\n",
    "2. Quelle est la valeur de son fils droit ?\n",
    "3. Quelle est la valeur de son fils gauche ?"
   ]
  },
  {
   "cell_type": "code",
   "execution_count": null,
   "metadata": {},
   "outputs": [],
   "source": [
    "arbre={'A':['B','C'],'B':[None,None],'C':[None,None]}"
   ]
  },
  {
   "cell_type": "markdown",
   "metadata": {},
   "source": [
    "Réponse :\n",
    "1. \n",
    "2. \n",
    "3. "
   ]
  },
  {
   "cell_type": "markdown",
   "metadata": {},
   "source": [
    "#### 4.2.2 Exercice\n",
    "<div class = \"alert alert-info\">\n",
    "<b>Q6 :</b>Ecrire l'implémentation du noeud suivant :\n",
    "    </div>\n",
    "\n",
    "![Exercice 3](Exo1.png)"
   ]
  },
  {
   "cell_type": "code",
   "execution_count": null,
   "metadata": {},
   "outputs": [],
   "source": [
    "noeud={}"
   ]
  },
  {
   "cell_type": "markdown",
   "metadata": {},
   "source": [
    "#### 4.2.2 Exercices\n",
    "<div class = \"alert alert-info\">\n",
    "<b>Q7 :</b>Complète le shéma de l'arbre suivant à partir du code ci-dessous:\n",
    "</div>\n",
    "\n",
    "![Exercice 4](exo2.png)"
   ]
  },
  {
   "cell_type": "code",
   "execution_count": null,
   "metadata": {},
   "outputs": [],
   "source": [
    "arbre={\n",
    "    'F':['G','H'],\n",
    "    'G':['K','L'],\n",
    "    'H':[None,None],\n",
    "    'K':[None,None],\n",
    "    'L':[None,None]\n",
    "}"
   ]
  },
  {
   "cell_type": "markdown",
   "metadata": {},
   "source": [
    "Pour la suite on pourra avoir besoin de trois fonctions essentielle :\n",
    "* Une fonction valN(noeud) qui renvoie la valeur du noeud.\n",
    "* Une fonction filsG(noeud) qui renvoie la valeur du fils gauche d'un noeud.\n",
    "* Une fonction filsD(noeud) qui renvoie la valeur du fils droit d'un noeud.\n",
    "Elles sont sans difficulté et donné ci dessous :"
   ]
  },
  {
   "cell_type": "code",
   "execution_count": null,
   "metadata": {},
   "outputs": [],
   "source": [
    "def valN(arbre,noeud):\n",
    "    return(noeud)\n",
    "\n",
    "def filsD(arbre,noeud):\n",
    "    return(arbre[noeud][1])\n",
    "\n",
    "def filsG(arbre,noeud):\n",
    "    return(arbre[noeud][0])"
   ]
  },
  {
   "cell_type": "markdown",
   "metadata": {},
   "source": [
    "Pour créer un arbre, on va simplement utiliser une fonction qui prenne en argument un arbre (une dictionnaire), une valeur pour le fils droit et une valeur pour le fils gauche de la clé 'noeud'\n",
    "\n",
    "<div class = \"alert alert-info\">\n",
    "    <b>Q8 :</b> Créer la fonction <b>ajoutNoeud</b> ci-dessous et s'en servir pour retrouver l'abre définit au début de cette série d'exercices. </div>"
   ]
  },
  {
   "cell_type": "code",
   "execution_count": null,
   "metadata": {},
   "outputs": [],
   "source": [
    "def ajoutNoeud(arbre,val,fg,fd):\n",
    "    "
   ]
  },
  {
   "cell_type": "markdown",
   "metadata": {},
   "source": [
    "### 4.2 Parcours d'un arbre\n",
    "<div class = \"alert alert-success\"> \n",
    "Parcourir un arbre c'est afficher tous les noeuds en suivant  un ordre précis.\n",
    "\n",
    "Il existe 3 ordres de parcourt : **Préfixe**, **Postfixe**, **Infixe** \n",
    "</div>\n",
    "    \n",
    "#### 4.2.1 Préfixe\n",
    "   \n",
    "On affiche successievement : valeur de la racine, sous-arbre gauche, sous-arbre droit.\n",
    "\n",
    "Ce qui nous donne en terme d'algorithme :"
   ]
  },
  {
   "cell_type": "raw",
   "metadata": {},
   "source": [
    "prefixe(arbre,v)\n",
    "   si ( v <> nil ) alors\n",
    "      valN(arbre,v)\n",
    "      prefixe(arbre,filsG(v))\n",
    "      prefixe(arbre,filsD(v))"
   ]
  },
  {
   "cell_type": "markdown",
   "metadata": {},
   "source": [
    "#### 4.2.2 Postfixe\n",
    "On affiche successievement : sous-arbre gauche, sous-arbre droit, racine\n",
    "\n",
    "<div class = \"alert alert-info\">\n",
    "    <b>Q9 :</b> En se basant sur l'algorithme de parcourt \"**préfixe**\", écrire celui **Postfixe**</div>"
   ]
  },
  {
   "cell_type": "raw",
   "metadata": {},
   "source": [
    "postfixe(v)\n"
   ]
  },
  {
   "cell_type": "markdown",
   "metadata": {},
   "source": [
    "#### 4.2.3 Infixe\n",
    "On affiche successievement : sous-arbre gauche, racine, sous-arbre droit\n",
    "<div class = \"alert alert-info\">\n",
    "    <b>Q10 :</b> En se basant sur l'algorithme de parcourt \"**préfixe**\", écrire celui **Infixe**</div>\n"
   ]
  },
  {
   "cell_type": "raw",
   "metadata": {},
   "source": [
    "infixe(v)\n"
   ]
  },
  {
   "cell_type": "markdown",
   "metadata": {},
   "source": [
    "#### 4.2.4 Implémentation en Python\n",
    "<div class = \"alert alert-info\">\n",
    "    <b>Q11 :</b> Exécuter le code ci-dessous. De quel parcourt est-il l'implémentation ? Le renommer en conséquence.</div>\n",
    "    \n",
    "Réponse :"
   ]
  },
  {
   "cell_type": "code",
   "execution_count": null,
   "metadata": {},
   "outputs": [],
   "source": [
    "def parcourt(arbre,noeud):\n",
    "    if noeud!=None:\n",
    "        parcourt(arbre,filsG(arbre,noeud))\n",
    "        print(noeud)\n",
    "        parcourt(arbre,filsD(arbre,noeud))"
   ]
  },
  {
   "cell_type": "markdown",
   "metadata": {},
   "source": [
    "<div class = \"alert alert-info\">\n",
    "    <b>Q12 :</b> Faire de même avec les deux autres parcourts. </div>"
   ]
  },
  {
   "cell_type": "code",
   "execution_count": null,
   "metadata": {},
   "outputs": [],
   "source": [
    "def parcourt2(arbre, noeud):\n",
    "    \n",
    "def parcourt3(arbre,noeud):"
   ]
  },
  {
   "cell_type": "markdown",
   "metadata": {},
   "source": [
    "#### 4.2.5 Et le coût dans tout cela ?\n",
    "<div class = \"alert alert-info\">\n",
    "    <b>Q13 :</b> Dans l'ensemble de ces parcours, combien de fois est visité chaque noeud ? Que peut-on en déduire sur la compléxité ?\n",
    "    </div>\n",
    "Réponses :\n",
    "\n",
    "\n",
    "\n",
    "\n",
    "+ 0(n) (linéaire) ?\n",
    "+ O(n²) (quadratique)?\n",
    "+ O(log_2(n)) (logarithmique en base 2) ?"
   ]
  },
  {
   "cell_type": "markdown",
   "metadata": {},
   "source": [
    "### 4.3 Autres fonctions \n",
    "#### 4.3.1 Hauteur d'un arbre\n",
    "On donne le code de la fonction qui détermine la hauteur d'un arbre, en écrire l'algorithme.   \n",
    "Cet algorithme est dit \"Récursif\"."
   ]
  },
  {
   "cell_type": "code",
   "execution_count": 2,
   "metadata": {},
   "outputs": [],
   "source": [
    "def hauteur(arbre,racine):\n",
    "    ''' Détermine la hauteur d'un arbre'''\n",
    "    if racine == None :\n",
    "        return(0)\n",
    "    else :\n",
    "        h = max(hauteur(arbre,filsG(arbre,racine)),hauteur(arbre,filsD(arbre,racine)))\n",
    "    return(h+1)"
   ]
  },
  {
   "cell_type": "raw",
   "metadata": {},
   "source": [
    "hauteur(arbre,v)\n"
   ]
  },
  {
   "cell_type": "markdown",
   "metadata": {},
   "source": [
    "### 4.4 Somme des valeur\n",
    "On se place cette fois dans un arbre ou la valeur (clé) de chaque noeud est un entier positif.\n",
    "<div class = \"alert alert-info\">\n",
    "    <b>Q14 :</b> \n",
    "Ecrire l'algorithme puis la fonction qui fait la somme des valeurs de chaque noeud. (sans faire la somme des clés du dictionnaire !)\n",
    "</div>\n"
   ]
  },
  {
   "cell_type": "markdown",
   "metadata": {},
   "source": [
    "somme(..."
   ]
  },
  {
   "cell_type": "code",
   "execution_count": null,
   "metadata": {},
   "outputs": [],
   "source": [
    "def sommeVal(arbre,noeud):\n",
    "    "
   ]
  },
  {
   "cell_type": "markdown",
   "metadata": {},
   "source": [
    "<div class = \"alert alert-warning\"> \n",
    "    <h2>5.Les arbres binaires de recherche</h2>\n",
    "</div>\n",
    "<div>\n",
    "Ouvrir <a href=\"http://btv.melezinek.cz/binary-search-tree.html\">le lien</a> permettant de construire des arbres binaires de recherche. <br/> En réaliser plusieurs à l'aide du bouton Random BSTree et en faisant varier les valeurs minimale et maximale.\n",
    "</div>\n",
    "<div class = \"alert alert-info\">\n",
    "    <b>Q15 :</b> \n",
    "Quelles sembles être les particularités de ces arbres ?</div>\n",
    "Réponse :\n",
    "\n",
    "\n",
    "\n",
    "### 5.1 Definition et vocabulaire\n",
    "\n",
    "<div class = \"alert alert-success\"> \n",
    "    Un <b>arbre binaire de recherche</b> est un arbre binaire dont les clés sont des nombres qui satisfait deux critères :\n",
    "    <ul>\n",
    "        <li> Les valeurs (ou <b>clé</b>) de tous les noeuds du sous arbre gauche d'un noeud X sont inférieures ou égales à la valeur de X.\n",
    "        <li> Les valeurs (ou <b>clé</b>) de tous les noeuds du sous arbre droit d'un noeud X sont strictement supérieures à la valeur de X.\n",
    "        </div>\n",
    "    \n",
    "<div class = \"alert alert-info\">\n",
    "    <b>Q16 :</b> \n",
    "Parmi les abres suivants, quels sont ceux qui sont des arbres binaires de recherche ? (Justifier)</div>\n",
    "   \n",
    "![Exercice 4](binaire.png)"
   ]
  },
  {
   "cell_type": "markdown",
   "metadata": {},
   "source": [
    "Réponse :"
   ]
  },
  {
   "cell_type": "markdown",
   "metadata": {},
   "source": [
    "### 5.2 Algorithmes et arbres binaires de recherche\n",
    "Pour la suite, le choix est fait de vous donner les algorithmes\n",
    "#### 5.2.1 Recherche d'une valeur/clé dans un ABR\n",
    "\n",
    "<div class = \"alert alert-success\"> \n",
    "La structure d'un ABR facilite la recherche d'une valeur, cela rend cette structure intéressante. <br/>  \n",
    "Chaque clé/noeud fils-gauche est inférieure à celle du noeud étudié, et chaque clé/noeud fils-droite sera supérieure.<br/>\n",
    "    </div>"
   ]
  },
  {
   "cell_type": "raw",
   "metadata": {},
   "source": [
    "rechercheABR(ABR,racine,val):\n",
    "    si ABR == nil :\n",
    "        retourner Faux\n",
    "    sinon\n",
    "        si val == racine :\n",
    "            retourner Vrai\n",
    "        Sinon\n",
    "            Si val <= racine :\n",
    "                retourner rechercheABR(ABR,filsG(racine))\n",
    "            sinon\n",
    "                retourner rechercheABR(ABR,filsD(racine))\n",
    "            finsi\n",
    "        finsi\n",
    "    finsi    "
   ]
  },
  {
   "cell_type": "markdown",
   "metadata": {},
   "source": [
    "#### Etude du coût\n",
    "\n",
    "A faire ensemble"
   ]
  },
  {
   "cell_type": "markdown",
   "metadata": {},
   "source": [
    "#### 5.2.2 Insérer une valeur/clé dans un ABR\n",
    "Pour insérer une clé dans un ABR, on recherche la clé et on l'insère au dernier endroit de la recherche infructueuse."
   ]
  },
  {
   "cell_type": "raw",
   "metadata": {},
   "source": [
    "insere(ABR,racine,cle):\n",
    "    si ABR == nil :\n",
    "        retourner ajoutNoeud(ABR,cle,nil,nil)\n",
    "    sinon\n",
    "        Si cle <= racine :\n",
    "            G=insere(ABR,filsG(racine),cle)\n",
    "            filsG(racine) = G\n",
    "            retourner(ABR)\n",
    "        sinon :\n",
    "            D=insere(ABR,filsD(racine),cle)\n",
    "            filsD(racine) = D\n",
    "            retourner(ABR)\n",
    "        finsi\n",
    "    finsi"
   ]
  },
  {
   "cell_type": "markdown",
   "metadata": {},
   "source": [
    "### 5.2.3 Implémentation en Python\n",
    "<div class = \"alert alert-info\">\n",
    "    <b>Q17 :</b> A vous de jouer !\n",
    "</div>"
   ]
  },
  {
   "cell_type": "code",
   "execution_count": null,
   "metadata": {},
   "outputs": [],
   "source": [
    "def rechercheABR():"
   ]
  },
  {
   "cell_type": "code",
   "execution_count": null,
   "metadata": {},
   "outputs": [],
   "source": [
    "def insereABR():"
   ]
  },
  {
   "cell_type": "markdown",
   "metadata": {},
   "source": [
    "### 6.Implémentation en python (Objet : projet)\n",
    "A faire plus tard"
   ]
  }
 ],
 "metadata": {
  "kernelspec": {
   "display_name": "Python 3",
   "language": "python",
   "name": "python3"
  },
  "language_info": {
   "codemirror_mode": {
    "name": "ipython",
    "version": 3
   },
   "file_extension": ".py",
   "mimetype": "text/x-python",
   "name": "python",
   "nbconvert_exporter": "python",
   "pygments_lexer": "ipython3",
   "version": "3.7.6"
  }
 },
 "nbformat": 4,
 "nbformat_minor": 4
}
