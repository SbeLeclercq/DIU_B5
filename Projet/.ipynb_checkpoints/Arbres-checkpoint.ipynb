{
 "cells": [
  {
   "cell_type": "markdown",
   "metadata": {},
   "source": [
    "# Les arbres binaires de recherche\n",
    "\n",
    "1. Les arbres\n",
    "\n",
    "    1. Introduction\n",
    "    \n",
    "    En mathématiques - plus particulièrement dans les chapitres traitant des probabilités - vous avez (dès la classe de seconde) déjà du voir des représentations sous forme d'arbre.\n",
    "\n",
    "    **Exemple :** *Dans le tiroir de Nicolas se trouvent 4 chaussettes : deux blanches, une noire et une rouge.Le matin, dans le noir, il choisit successivement deux chaussettes au hasard dans le tiroir.*\n",
    "\n",
    "    ![Exemple d'arbre en probabilité](arbre.png)    \n",
    "  \n",
    "    2. Vocabulaire\n",
    "    \n",
    "    Les graphes représentent une partie importante de l’informatique. Leur visuel ainsi que le vocabulaire sont assez intuitifs.\n",
    "        \n",
    "        1. Présentation\n",
    "        \n",
    "        Contrairement à ce que vous avez vu jusqu'à présent, il est dirigé vers le bas (et plus vers la droite). Cela ressemble plus au système racinaire de l'arbre qu'à l'arbre en lui même.\n",
    "        ![Arbre bien présenté](arbreok.png)\n",
    "        \n",
    "        2. Noeud\n",
    "        \n",
    "        Ce sont les éléments du graphe, entouré en rouge ci-dessous. On les nomme parfois les feuilles de l'arbre. On parle de noeud \"père\" pour le noeud qui se trouve au rang supérieur (au dessus) et de noeuds \"fils\" pour le ou les neouds au rang inférieur (en dessous). \n",
    "        ![Arbre noeud](arbreNoeud.png)\n",
    "        \n",
    "        3. Arêtes\n",
    "        \n",
    "        Ce sont les liens qui relient les noeuds (repassés en bleu ci dessous). On les nomme parfois les branches.\n",
    "        ![Arbre arêtes](arbreArete.png)\n",
    "        \n",
    "    3. Arbres binaires\n",
    "    \n",
    "    Nous nous contenterons dans ce chapitre d'étudier des abres binaires, c'est à dire lorsque chaque noeud possède au plus 2 fils (0, 1 ou 2).\n",
    "        \n",
    "        \n"
   ]
  },
  {
   "cell_type": "markdown",
   "metadata": {},
   "source": []
  },
  {
   "cell_type": "markdown",
   "metadata": {},
   "source": [
    "\n"
   ]
  }
 ],
 "metadata": {
  "kernelspec": {
   "display_name": "Python 3",
   "language": "python",
   "name": "python3"
  },
  "language_info": {
   "codemirror_mode": {
    "name": "ipython",
    "version": 3
   },
   "file_extension": ".py",
   "mimetype": "text/x-python",
   "name": "python",
   "nbconvert_exporter": "python",
   "pygments_lexer": "ipython3",
   "version": "3.7.3"
  }
 },
 "nbformat": 4,
 "nbformat_minor": 4
}
